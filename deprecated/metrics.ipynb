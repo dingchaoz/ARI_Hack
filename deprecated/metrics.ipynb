{
 "cells": [
  {
   "cell_type": "code",
   "execution_count": 1,
   "metadata": {
    "collapsed": false
   },
   "outputs": [],
   "source": [
    "import pandas as pd\n",
    "import numpy as np\n",
    "import matplotlib.pyplot as plt\n",
    "%matplotlib inline"
   ]
  },
  {
   "cell_type": "code",
   "execution_count": 2,
   "metadata": {
    "collapsed": false
   },
   "outputs": [
    {
     "name": "stdout",
     "output_type": "stream",
     "text": [
      "0    145\n",
      "1    145\n",
      "dtype: int64\n"
     ]
    },
    {
     "data": {
      "text/html": [
       "<div>\n",
       "<table border=\"1\" class=\"dataframe\">\n",
       "  <thead>\n",
       "    <tr style=\"text-align: right;\">\n",
       "      <th></th>\n",
       "      <th>Filename</th>\n",
       "      <th>ActualArea</th>\n",
       "    </tr>\n",
       "  </thead>\n",
       "  <tbody>\n",
       "    <tr>\n",
       "      <th>0</th>\n",
       "      <td>5855a906-aefa-4ae0-be10-80aa587ee982</td>\n",
       "      <td>2920</td>\n",
       "    </tr>\n",
       "    <tr>\n",
       "      <th>1</th>\n",
       "      <td>967e2c54-b644-4521-95a3-7a7ee7238895</td>\n",
       "      <td>2341</td>\n",
       "    </tr>\n",
       "    <tr>\n",
       "      <th>2</th>\n",
       "      <td>989f9066-5eec-4d2e-b684-c631a9937243</td>\n",
       "      <td>2894</td>\n",
       "    </tr>\n",
       "  </tbody>\n",
       "</table>\n",
       "</div>"
      ],
      "text/plain": [
       "                               Filename  ActualArea\n",
       "0  5855a906-aefa-4ae0-be10-80aa587ee982        2920\n",
       "1  967e2c54-b644-4521-95a3-7a7ee7238895        2341\n",
       "2  989f9066-5eec-4d2e-b684-c631a9937243        2894"
      ]
     },
     "execution_count": 2,
     "metadata": {},
     "output_type": "execute_result"
    }
   ],
   "source": [
    "#targets\n",
    "targetFile = \"ARI-targets.csv\"\n",
    "targetDF = pd.read_csv(targetFile, header=None)\n",
    "print targetDF.count()\n",
    "targetDF.columns = [\"Filename\", \"ActualArea\"]\n",
    "targetDF[\"Filename\"] = targetDF.Filename.apply(lambda x: x[:36])\n",
    "targetDF.head(3)"
   ]
  },
  {
   "cell_type": "code",
   "execution_count": 3,
   "metadata": {
    "collapsed": false
   },
   "outputs": [
    {
     "name": "stdout",
     "output_type": "stream",
     "text": [
      "0    144\n",
      "1    144\n",
      "2    144\n",
      "dtype: int64\n"
     ]
    },
    {
     "data": {
      "text/html": [
       "<div>\n",
       "<table border=\"1\" class=\"dataframe\">\n",
       "  <thead>\n",
       "    <tr style=\"text-align: right;\">\n",
       "      <th></th>\n",
       "      <th>Filename</th>\n",
       "      <th>HullArea</th>\n",
       "      <th>EstArea</th>\n",
       "    </tr>\n",
       "  </thead>\n",
       "  <tbody>\n",
       "    <tr>\n",
       "      <th>0</th>\n",
       "      <td>5855a906-aefa-4ae0-be10-80aa587ee982</td>\n",
       "      <td>2377.353329</td>\n",
       "      <td>2040.139015</td>\n",
       "    </tr>\n",
       "    <tr>\n",
       "      <th>1</th>\n",
       "      <td>967e2c54-b644-4521-95a3-7a7ee7238895</td>\n",
       "      <td>2062.560139</td>\n",
       "      <td>3233.954512</td>\n",
       "    </tr>\n",
       "    <tr>\n",
       "      <th>2</th>\n",
       "      <td>989f9066-5eec-4d2e-b684-c631a9937243</td>\n",
       "      <td>3664.373778</td>\n",
       "      <td>2003.146901</td>\n",
       "    </tr>\n",
       "  </tbody>\n",
       "</table>\n",
       "</div>"
      ],
      "text/plain": [
       "                               Filename     HullArea      EstArea\n",
       "0  5855a906-aefa-4ae0-be10-80aa587ee982  2377.353329  2040.139015\n",
       "1  967e2c54-b644-4521-95a3-7a7ee7238895  2062.560139  3233.954512\n",
       "2  989f9066-5eec-4d2e-b684-c631a9937243  3664.373778  2003.146901"
      ]
     },
     "execution_count": 3,
     "metadata": {},
     "output_type": "execute_result"
    }
   ],
   "source": [
    "#Estimation\n",
    "pcdFile = \"PCD_Areas.csv\"\n",
    "pcdDF = pd.read_csv(pcdFile, header=None)\n",
    "print pcdDF.count()\n",
    "pcdDF.columns = [\"Filename\", \"HullArea\", \"EstArea\"]\n",
    "pcdDF[\"Filename\"] = pcdDF.Filename.apply(lambda x: x[:36])\n",
    "pcdDF.head(3)"
   ]
  },
  {
   "cell_type": "code",
   "execution_count": 4,
   "metadata": {
    "collapsed": false
   },
   "outputs": [
    {
     "name": "stdout",
     "output_type": "stream",
     "text": [
      "(143, 8)\n"
     ]
    },
    {
     "data": {
      "text/html": [
       "<div>\n",
       "<table border=\"1\" class=\"dataframe\">\n",
       "  <thead>\n",
       "    <tr style=\"text-align: right;\">\n",
       "      <th></th>\n",
       "      <th>Filename</th>\n",
       "      <th>ActualArea</th>\n",
       "      <th>HullArea</th>\n",
       "      <th>EstArea</th>\n",
       "      <th>Error_Est</th>\n",
       "      <th>Error_Est_pct</th>\n",
       "      <th>Error_hull</th>\n",
       "      <th>Error_hull_pct</th>\n",
       "    </tr>\n",
       "  </thead>\n",
       "  <tbody>\n",
       "    <tr>\n",
       "      <th>0</th>\n",
       "      <td>5855a906-aefa-4ae0-be10-80aa587ee982</td>\n",
       "      <td>2920</td>\n",
       "      <td>2377.353329</td>\n",
       "      <td>2040.139015</td>\n",
       "      <td>879.860985</td>\n",
       "      <td>0.301322</td>\n",
       "      <td>542.646671</td>\n",
       "      <td>0.185838</td>\n",
       "    </tr>\n",
       "    <tr>\n",
       "      <th>1</th>\n",
       "      <td>967e2c54-b644-4521-95a3-7a7ee7238895</td>\n",
       "      <td>2341</td>\n",
       "      <td>2062.560139</td>\n",
       "      <td>3233.954512</td>\n",
       "      <td>-892.954512</td>\n",
       "      <td>-0.381441</td>\n",
       "      <td>278.439861</td>\n",
       "      <td>0.118941</td>\n",
       "    </tr>\n",
       "    <tr>\n",
       "      <th>2</th>\n",
       "      <td>989f9066-5eec-4d2e-b684-c631a9937243</td>\n",
       "      <td>2894</td>\n",
       "      <td>3664.373778</td>\n",
       "      <td>2003.146901</td>\n",
       "      <td>890.853099</td>\n",
       "      <td>0.307828</td>\n",
       "      <td>-770.373778</td>\n",
       "      <td>-0.266197</td>\n",
       "    </tr>\n",
       "    <tr>\n",
       "      <th>3</th>\n",
       "      <td>a111a354-2b38-4f9f-a3c8-23dccec3e4e6</td>\n",
       "      <td>3036</td>\n",
       "      <td>3529.841121</td>\n",
       "      <td>3481.671808</td>\n",
       "      <td>-445.671808</td>\n",
       "      <td>-0.146796</td>\n",
       "      <td>-493.841121</td>\n",
       "      <td>-0.162662</td>\n",
       "    </tr>\n",
       "    <tr>\n",
       "      <th>4</th>\n",
       "      <td>a1ae3f44-5878-4d30-898d-4dd4b33f8cfa</td>\n",
       "      <td>4358</td>\n",
       "      <td>2322.391835</td>\n",
       "      <td>1954.603317</td>\n",
       "      <td>2403.396683</td>\n",
       "      <td>0.551491</td>\n",
       "      <td>2035.608165</td>\n",
       "      <td>0.467097</td>\n",
       "    </tr>\n",
       "  </tbody>\n",
       "</table>\n",
       "</div>"
      ],
      "text/plain": [
       "                               Filename  ActualArea     HullArea      EstArea  \\\n",
       "0  5855a906-aefa-4ae0-be10-80aa587ee982        2920  2377.353329  2040.139015   \n",
       "1  967e2c54-b644-4521-95a3-7a7ee7238895        2341  2062.560139  3233.954512   \n",
       "2  989f9066-5eec-4d2e-b684-c631a9937243        2894  3664.373778  2003.146901   \n",
       "3  a111a354-2b38-4f9f-a3c8-23dccec3e4e6        3036  3529.841121  3481.671808   \n",
       "4  a1ae3f44-5878-4d30-898d-4dd4b33f8cfa        4358  2322.391835  1954.603317   \n",
       "\n",
       "     Error_Est  Error_Est_pct   Error_hull  Error_hull_pct  \n",
       "0   879.860985       0.301322   542.646671        0.185838  \n",
       "1  -892.954512      -0.381441   278.439861        0.118941  \n",
       "2   890.853099       0.307828  -770.373778       -0.266197  \n",
       "3  -445.671808      -0.146796  -493.841121       -0.162662  \n",
       "4  2403.396683       0.551491  2035.608165        0.467097  "
      ]
     },
     "execution_count": 4,
     "metadata": {},
     "output_type": "execute_result"
    }
   ],
   "source": [
    "merged = pd.merge(targetDF, pcdDF, on=\"Filename\")\n",
    "merged[\"Error_Est\"] = merged.ActualArea - merged.EstArea\n",
    "merged[\"Error_Est_pct\"] = (merged.ActualArea - merged.EstArea)/merged.ActualArea \n",
    "merged[\"Error_hull\"] = merged.ActualArea - merged.HullArea\n",
    "merged[\"Error_hull_pct\"] = (merged.ActualArea - merged.HullArea)/merged.ActualArea \n",
    "print merged.shape\n",
    "merged.head()"
   ]
  },
  {
   "cell_type": "code",
   "execution_count": 5,
   "metadata": {
    "collapsed": false
   },
   "outputs": [
    {
     "data": {
      "text/plain": [
       "(637.4239544358538, 651.2827367143205)"
      ]
     },
     "execution_count": 5,
     "metadata": {},
     "output_type": "execute_result"
    }
   ],
   "source": [
    "np.mean(merged.Error_Est), np.mean(merged.Error_hull)"
   ]
  },
  {
   "cell_type": "code",
   "execution_count": 6,
   "metadata": {
    "collapsed": false
   },
   "outputs": [
    {
     "data": {
      "text/plain": [
       "(0.17395131153874552, 0.20128705206047698)"
      ]
     },
     "execution_count": 6,
     "metadata": {},
     "output_type": "execute_result"
    }
   ],
   "source": [
    "np.mean(merged.Error_Est_pct), np.mean(merged.Error_hull_pct)"
   ]
  },
  {
   "cell_type": "code",
   "execution_count": 7,
   "metadata": {
    "collapsed": false
   },
   "outputs": [
    {
     "data": {
      "image/png": "[encoded data removed]",
      "text/plain": [
       "<matplotlib.figure.Figure at 0x10645d1d0>"
      ]
     },
     "metadata": {},
     "output_type": "display_data"
    }
   ],
   "source": [
    "plt.plot(merged.Error_Est_pct)\n",
    "plt.show()"
   ]
  },
  {
   "cell_type": "code",
   "execution_count": null,
   "metadata": {
    "collapsed": true
   },
   "outputs": [],
   "source": []
  },
  {
   "cell_type": "code",
   "execution_count": 8,
   "metadata": {
    "collapsed": false
   },
   "outputs": [],
   "source": [
    "#write output to CSV\n",
    "merged.to_csv(\"pcd_metrics.csv\")"
   ]
  },
  {
   "cell_type": "code",
   "execution_count": null,
   "metadata": {
    "collapsed": true
   },
   "outputs": [],
   "source": []
  }
 ],
 "metadata": {
  "kernelspec": {
   "display_name": "Python 2",
   "language": "python",
   "name": "python2"
  },
  "language_info": {
   "codemirror_mode": {
    "name": "ipython",
    "version": 2
   },
   "file_extension": ".py",
   "mimetype": "text/x-python",
   "name": "python",
   "nbconvert_exporter": "python",
   "pygments_lexer": "ipython2",
   "version": "2.7.12"
  }
 },
 "nbformat": 4,
 "nbformat_minor": 0
}
